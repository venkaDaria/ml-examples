{
 "cells": [
  {
   "cell_type": "markdown",
   "metadata": {},
   "source": [
    "# Сверточная нейронная сеть на PyTorch: пошаговое руководство"
   ]
  },
  {
   "cell_type": "markdown",
   "metadata": {},
   "source": [
    "https://neurohive.io/ru/tutorial/cnn-na-pytorch/"
   ]
  },
  {
   "cell_type": "code",
   "execution_count": 40,
   "metadata": {},
   "outputs": [],
   "source": [
    "import torch\n",
    "import torch.nn as nn \n",
    "\n",
    "from torchvision import transforms, datasets\n",
    "from torch.utils.data import DataLoader"
   ]
  },
  {
   "cell_type": "code",
   "execution_count": 41,
   "metadata": {},
   "outputs": [],
   "source": [
    "num_epochs = 5 \n",
    "num_classes = 10 \n",
    "batch_size = 100 \n",
    "learning_rate = 0.001\n",
    "DATA_PATH = 'data\\mnist'\n",
    "MODEL_STORE_PATH = 'models'"
   ]
  },
  {
   "cell_type": "markdown",
   "metadata": {},
   "source": [
    "## Загрузка датасета"
   ]
  },
  {
   "cell_type": "code",
   "execution_count": 42,
   "metadata": {},
   "outputs": [],
   "source": [
    "trans = transforms.Compose([transforms.ToTensor(), transforms.Normalize((0.1307,), (0.3081,))]) \n",
    "\n",
    "train_dataset = datasets.MNIST(root=DATA_PATH, train=True, transform=trans, download=True) \n",
    "test_dataset = datasets.MNIST(root=DATA_PATH, train=False, transform=trans)"
   ]
  },
  {
   "cell_type": "code",
   "execution_count": 43,
   "metadata": {},
   "outputs": [],
   "source": [
    "train_loader = DataLoader(dataset=train_dataset, batch_size=batch_size,shuffle=True) \n",
    "test_loader = DataLoader(dataset=test_dataset, batch_size=batch_size, shuffle=False)"
   ]
  },
  {
   "cell_type": "markdown",
   "metadata": {},
   "source": [
    "## Создание модели"
   ]
  },
  {
   "cell_type": "code",
   "execution_count": 44,
   "metadata": {},
   "outputs": [],
   "source": [
    "class ConvNet(nn.Module): \n",
    "    def __init__(self): \n",
    "        super(ConvNet, self).__init__() \n",
    "        self.layer1 = nn.Sequential( nn.Conv2d(1, 32, kernel_size=5, stride=1, padding=2), \n",
    "        nn.ReLU(), nn.MaxPool2d(kernel_size=2, stride=2)) \n",
    "        self.layer2 = nn.Sequential( nn.Conv2d(32, 64, kernel_size=5, stride=1, padding=2), \n",
    "        nn.ReLU(), nn.MaxPool2d(kernel_size=2, stride=2)) \n",
    "        self.drop_out = nn.Dropout() \n",
    "        self.fc1 = nn.Linear(7 * 7 * 64, 1000) \n",
    "        self.fc2 = nn.Linear(1000, 10)\n",
    "        \n",
    "    def forward(self, x): \n",
    "        out = self.layer1(x) \n",
    "        out = self.layer2(out) \n",
    "        out = out.reshape(out.size(0), -1) \n",
    "        out = self.drop_out(out) \n",
    "        out = self.fc1(out) \n",
    "        out = self.fc2(out) \n",
    "        return out    "
   ]
  },
  {
   "cell_type": "markdown",
   "metadata": {},
   "source": [
    "## Обучение модели"
   ]
  },
  {
   "cell_type": "code",
   "execution_count": 45,
   "metadata": {},
   "outputs": [],
   "source": [
    "model = ConvNet()\n",
    "criterion = nn.CrossEntropyLoss()\n",
    "optimizer = torch.optim.Adam(model.parameters(), lr=learning_rate)"
   ]
  },
  {
   "cell_type": "markdown",
   "metadata": {},
   "source": [
    "### Тренировка"
   ]
  },
  {
   "cell_type": "code",
   "execution_count": 46,
   "metadata": {},
   "outputs": [
    {
     "name": "stdout",
     "output_type": "stream",
     "text": [
      "Epoch [1/5], Step [100/600], Loss: 0.2440, Accuracy: 94.00%\n",
      "Epoch [1/5], Step [200/600], Loss: 0.1752, Accuracy: 96.00%\n",
      "Epoch [1/5], Step [300/600], Loss: 0.0829, Accuracy: 99.00%\n",
      "Epoch [1/5], Step [400/600], Loss: 0.0568, Accuracy: 97.00%\n",
      "Epoch [1/5], Step [500/600], Loss: 0.1813, Accuracy: 98.00%\n",
      "Epoch [1/5], Step [600/600], Loss: 0.0565, Accuracy: 99.00%\n",
      "Epoch [2/5], Step [100/600], Loss: 0.0495, Accuracy: 98.00%\n",
      "Epoch [2/5], Step [200/600], Loss: 0.1115, Accuracy: 95.00%\n",
      "Epoch [2/5], Step [300/600], Loss: 0.1435, Accuracy: 94.00%\n",
      "Epoch [2/5], Step [400/600], Loss: 0.1035, Accuracy: 96.00%\n",
      "Epoch [2/5], Step [500/600], Loss: 0.0207, Accuracy: 100.00%\n",
      "Epoch [2/5], Step [600/600], Loss: 0.0332, Accuracy: 99.00%\n",
      "Epoch [3/5], Step [100/600], Loss: 0.1464, Accuracy: 95.00%\n",
      "Epoch [3/5], Step [200/600], Loss: 0.0557, Accuracy: 97.00%\n",
      "Epoch [3/5], Step [300/600], Loss: 0.1591, Accuracy: 97.00%\n",
      "Epoch [3/5], Step [400/600], Loss: 0.0638, Accuracy: 96.00%\n",
      "Epoch [3/5], Step [500/600], Loss: 0.0490, Accuracy: 99.00%\n",
      "Epoch [3/5], Step [600/600], Loss: 0.0999, Accuracy: 97.00%\n",
      "Epoch [4/5], Step [100/600], Loss: 0.0834, Accuracy: 97.00%\n",
      "Epoch [4/5], Step [200/600], Loss: 0.0286, Accuracy: 99.00%\n",
      "Epoch [4/5], Step [300/600], Loss: 0.0176, Accuracy: 100.00%\n",
      "Epoch [4/5], Step [400/600], Loss: 0.0696, Accuracy: 97.00%\n",
      "Epoch [4/5], Step [500/600], Loss: 0.0375, Accuracy: 98.00%\n",
      "Epoch [4/5], Step [600/600], Loss: 0.0345, Accuracy: 99.00%\n",
      "Epoch [5/5], Step [100/600], Loss: 0.0355, Accuracy: 99.00%\n",
      "Epoch [5/5], Step [200/600], Loss: 0.0630, Accuracy: 97.00%\n",
      "Epoch [5/5], Step [300/600], Loss: 0.1028, Accuracy: 98.00%\n",
      "Epoch [5/5], Step [400/600], Loss: 0.0588, Accuracy: 98.00%\n",
      "Epoch [5/5], Step [500/600], Loss: 0.0083, Accuracy: 100.00%\n",
      "Epoch [5/5], Step [600/600], Loss: 0.0226, Accuracy: 100.00%\n"
     ]
    }
   ],
   "source": [
    "total_step = len(train_loader)\n",
    "loss_list = []\n",
    "acc_list = []\n",
    "for epoch in range(num_epochs):\n",
    "    for i, (images, labels) in enumerate(train_loader):\n",
    "        # Прямой запуск\n",
    "        outputs = model(images)\n",
    "        loss = criterion(outputs, labels)\n",
    "        loss_list.append(loss.item())\n",
    "\n",
    "        # Обратное распространение и оптимизатор\n",
    "        optimizer.zero_grad()\n",
    "        loss.backward()\n",
    "        optimizer.step()\n",
    "\n",
    "        # Отслеживание точности\n",
    "        total = labels.size(0)\n",
    "        _, predicted = torch.max(outputs.data, 1)\n",
    "        correct = (predicted == labels).sum().item()\n",
    "        acc_list.append(correct / total)\n",
    "\n",
    "        if (i + 1) % 100 == 0:\n",
    "            print('Epoch [{}/{}], Step [{}/{}], Loss: {:.4f}, Accuracy: {:.2f}%'\n",
    "                  .format(epoch + 1, num_epochs, i + 1, total_step, loss.item(),\n",
    "                          (correct / total) * 100))"
   ]
  },
  {
   "cell_type": "markdown",
   "metadata": {},
   "source": [
    "## Тестирование"
   ]
  },
  {
   "cell_type": "code",
   "execution_count": 47,
   "metadata": {},
   "outputs": [
    {
     "name": "stdout",
     "output_type": "stream",
     "text": [
      "Test Accuracy of the model on the 10000 test images: 99.17 %\n"
     ]
    }
   ],
   "source": [
    "model.eval()\n",
    "with torch.no_grad():\n",
    "    correct = 0\n",
    "    total = 0\n",
    "    for images, labels in test_loader:\n",
    "        outputs = model(images)\n",
    "        _, predicted = torch.max(outputs.data, 1)\n",
    "        total += labels.size(0)\n",
    "        correct += (predicted == labels).sum().item()\n",
    "\n",
    "    print('Test Accuracy of the model on the 10000 test images: {} %'.format((correct / total) * 100))\n",
    "\n",
    "# Сохраняем модель и строим график\n",
    "torch.save(model.state_dict(), MODEL_STORE_PATH + 'conv_net_model.ckpt')"
   ]
  }
 ],
 "metadata": {
  "kernelspec": {
   "display_name": "Python 3",
   "language": "python",
   "name": "python3"
  },
  "language_info": {
   "codemirror_mode": {
    "name": "ipython",
    "version": 3
   },
   "file_extension": ".py",
   "mimetype": "text/x-python",
   "name": "python",
   "nbconvert_exporter": "python",
   "pygments_lexer": "ipython3",
   "version": "3.6.4"
  }
 },
 "nbformat": 4,
 "nbformat_minor": 2
}
