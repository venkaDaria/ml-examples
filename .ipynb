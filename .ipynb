{
 "cells": [
  {
   "cell_type": "markdown",
   "metadata": {},
   "source": [
    "# Туториал по PyTorch: от установки до готовой нейронной сети"
   ]
  },
  {
   "cell_type": "markdown",
   "metadata": {},
   "source": [
    "https://neurohive.io/ru/tutorial/glubokoe-obuchenie-s-pytorch/"
   ]
  },
  {
   "cell_type": "markdown",
   "metadata": {},
   "source": [
    "## Тензоры"
   ]
  },
  {
   "cell_type": "code",
   "execution_count": 279,
   "metadata": {},
   "outputs": [],
   "source": [
    "import torch\n",
    "from torch.autograd import Variable"
   ]
  },
  {
   "cell_type": "code",
   "execution_count": 280,
   "metadata": {
    "scrolled": true
   },
   "outputs": [
    {
     "data": {
      "text/plain": [
       "tensor([[0.0000, 0.0000, 0.0000],\n",
       "        [0.0000, 0.0000, 0.0000]])"
      ]
     },
     "execution_count": 280,
     "metadata": {},
     "output_type": "execute_result"
    }
   ],
   "source": [
    "torch.Tensor(2, 3)"
   ]
  },
  {
   "cell_type": "code",
   "execution_count": 281,
   "metadata": {},
   "outputs": [
    {
     "data": {
      "text/plain": [
       "tensor([[0.3492, 0.7663, 0.6051],\n",
       "        [0.7126, 0.7209, 0.0406]])"
      ]
     },
     "execution_count": 281,
     "metadata": {},
     "output_type": "execute_result"
    }
   ],
   "source": [
    "torch.rand(2, 3)"
   ]
  },
  {
   "cell_type": "code",
   "execution_count": 282,
   "metadata": {},
   "outputs": [
    {
     "data": {
      "text/plain": [
       "tensor([[3., 3., 3.],\n",
       "        [3., 3., 3.]])"
      ]
     },
     "execution_count": 282,
     "metadata": {},
     "output_type": "execute_result"
    }
   ],
   "source": [
    "x = torch.ones(2,3)\n",
    "y = torch.ones(2,3) * 2\n",
    "x + y"
   ]
  },
  {
   "cell_type": "code",
   "execution_count": 283,
   "metadata": {},
   "outputs": [
    {
     "data": {
      "text/plain": [
       "tensor([[2., 3., 2.],\n",
       "        [2., 3., 2.]])"
      ]
     },
     "execution_count": 283,
     "metadata": {},
     "output_type": "execute_result"
    }
   ],
   "source": [
    "y[:,1] = y[:,1] + 1\n",
    "y"
   ]
  },
  {
   "cell_type": "markdown",
   "metadata": {},
   "source": [
    "## Автоматическое дифференцирование в PyTorch"
   ]
  },
  {
   "cell_type": "code",
   "execution_count": 284,
   "metadata": {},
   "outputs": [
    {
     "data": {
      "text/plain": [
       "tensor([[2., 2.],\n",
       "        [2., 2.]], requires_grad=True)"
      ]
     },
     "execution_count": 284,
     "metadata": {},
     "output_type": "execute_result"
    }
   ],
   "source": [
    "x = Variable(torch.ones(2, 2) * 2, requires_grad=True) \n",
    "# Если последний параметр будет равен False, то переменная не может использоваться для обучения\n",
    "x"
   ]
  },
  {
   "cell_type": "code",
   "execution_count": 285,
   "metadata": {},
   "outputs": [
    {
     "data": {
      "text/plain": [
       "tensor([[18., 18.],\n",
       "        [18., 18.]], grad_fn=<ThAddBackward>)"
      ]
     },
     "execution_count": 285,
     "metadata": {},
     "output_type": "execute_result"
    }
   ],
   "source": [
    "z = 2 * (x * x) + 5 * x\n",
    "z"
   ]
  },
  {
   "cell_type": "code",
   "execution_count": 286,
   "metadata": {},
   "outputs": [
    {
     "data": {
      "text/plain": [
       "tensor([[13., 13.],\n",
       "        [13., 13.]])"
      ]
     },
     "execution_count": 286,
     "metadata": {},
     "output_type": "execute_result"
    }
   ],
   "source": [
    "z.backward(torch.ones(2, 2))\n",
    "x.grad"
   ]
  },
  {
   "cell_type": "markdown",
   "metadata": {},
   "source": [
    "## Класс для построения нейронной сети"
   ]
  },
  {
   "cell_type": "code",
   "execution_count": 287,
   "metadata": {},
   "outputs": [],
   "source": [
    "import torch.nn as nn\n",
    "import torch.nn.functional as F\n",
    "import torch.optim as optim\n",
    "\n",
    "class Net(nn.Module):\n",
    "    def __init__(self):\n",
    "        super(Net, self).__init__()\n",
    "        self.fc1 = nn.Linear(28 * 28, 200)\n",
    "        self.fc2 = nn.Linear(200, 200)\n",
    "        self.fc3 = nn.Linear(200, 10)\n",
    "    \n",
    "    def forward(self, x):\n",
    "        x = F.relu(self.fc1(x))\n",
    "        x = F.relu(self.fc2(x))\n",
    "        x = self.fc3(x)\n",
    "        return F.log_softmax(x, dim=1) \n",
    "\n",
    "# UserWarning: Implicit dimension choice for log_softmax has been deprecated. \n",
    "# Change the call to include dim=X as an argument"
   ]
  },
  {
   "cell_type": "code",
   "execution_count": 288,
   "metadata": {},
   "outputs": [
    {
     "data": {
      "text/plain": [
       "Net(\n",
       "  (fc1): Linear(in_features=784, out_features=200, bias=True)\n",
       "  (fc2): Linear(in_features=200, out_features=200, bias=True)\n",
       "  (fc3): Linear(in_features=200, out_features=10, bias=True)\n",
       ")"
      ]
     },
     "execution_count": 288,
     "metadata": {},
     "output_type": "execute_result"
    }
   ],
   "source": [
    "net = Net()\n",
    "# Нейрон смещения или bias нейрон — это третий вид нейронов, используемый в большинстве нейросетей. \n",
    "# Особенность этого типа нейронов заключается в том, что его вход и выход всегда равняются 1 \n",
    "# и они никогда не имеют входных синапсов.\n",
    "net"
   ]
  },
  {
   "cell_type": "markdown",
   "metadata": {},
   "source": [
    "## Тренировка сети"
   ]
  },
  {
   "cell_type": "code",
   "execution_count": 289,
   "metadata": {},
   "outputs": [],
   "source": [
    "def train(optimizer, batch_size=200, epochs=10, log_interval=10):\n",
    "    # запускаем главный тренировочный цикл\n",
    "    for epoch in range(epochs):\n",
    "        for batch_idx, (data, target) in enumerate(train_loader):\n",
    "            data, target = Variable(data), Variable(target)\n",
    "\n",
    "            # изменим размер с (batch_size, 1, 28, 28) на (batch_size, 28*28)\n",
    "            data = data.view(-1, 28*28)\n",
    "            optimizer.zero_grad()\n",
    "            net_out = net(data)\n",
    "            loss = criterion(net_out, target)\n",
    "            loss.backward()\n",
    "            optimizer.step()\n",
    "            \n",
    "            if batch_idx % log_interval == 0:\n",
    "                print('Train Epoch: {} [{}/{} ({:.0f}%)]\\tLoss: {:.6f}'.format(\n",
    "                   epoch, batch_idx * len(data), len(train_loader.dataset),\n",
    "                          100. * batch_idx / len(train_loader), loss.data.item())) # loss.data[0]\n",
    "                      "
   ]
  },
  {
   "cell_type": "markdown",
   "metadata": {},
   "source": [
    "## Train and Test data"
   ]
  },
  {
   "cell_type": "code",
   "execution_count": 290,
   "metadata": {},
   "outputs": [],
   "source": [
    "from torchvision import datasets, transforms\n",
    "\n",
    "train_loader = torch.utils.data.DataLoader(\n",
    "    datasets.MNIST('../data', train=True, download=True,\n",
    "                   transform=transforms.Compose([\n",
    "                       transforms.ToTensor(),\n",
    "                       transforms.Normalize((0.1307,), (0.3081,))\n",
    "                   ])),\n",
    "    batch_size=batch_size, shuffle=True)\n",
    "\n",
    "test_loader = torch.utils.data.DataLoader(\n",
    "    datasets.MNIST('../data', train=False, transform=transforms.Compose([\n",
    "        transforms.ToTensor(),\n",
    "        transforms.Normalize((0.1307,), (0.3081,))\n",
    "    ])),\n",
    "    batch_size=batch_size, shuffle=True)"
   ]
  },
  {
   "cell_type": "markdown",
   "metadata": {},
   "source": [
    "## Check network"
   ]
  },
  {
   "cell_type": "code",
   "execution_count": 291,
   "metadata": {},
   "outputs": [],
   "source": [
    "def main():\n",
    "    test_loss = 0\n",
    "    correct = 0\n",
    "    \n",
    "    # instead of Variable(data, volatile=True)\n",
    "    # https://discuss.pytorch.org/t/volatile-now-has-no-effect-use-with-torch-no-grad-instead/26656\n",
    "    with torch.no_grad(): \n",
    "        \n",
    "        # evaluate\n",
    "        for data, target in test_loader:\n",
    "            data = data.view(-1, 28 * 28)\n",
    "            net_out = net(data)\n",
    "\n",
    "            # Суммируем потери со всех партий\n",
    "            test_loss += criterion(net_out, target).data.item() # data[0]\n",
    "            pred = net_out.data.max(1)[1]  # получаем индекс максимального значения\n",
    "            correct += pred.eq(target.data).sum()\n",
    "\n",
    "        # log info   \n",
    "        test_loss /= len(test_loader.dataset)\n",
    "        print('\\nTest set: Average loss: {:.4f}, Accuracy: {}/{} ({:.0f}%)\\n'.format(\n",
    "           test_loss, correct, len(test_loader.dataset),\n",
    "           100. * correct / len(test_loader.dataset)))"
   ]
  },
  {
   "cell_type": "markdown",
   "metadata": {},
   "source": [
    "### SGD optimizer"
   ]
  },
  {
   "cell_type": "code",
   "execution_count": 292,
   "metadata": {},
   "outputs": [
    {
     "name": "stdout",
     "output_type": "stream",
     "text": [
      "Train Epoch: 0 [0/60000 (0%)]\tLoss: 2.296496\n",
      "Train Epoch: 0 [2000/60000 (3%)]\tLoss: 2.170950\n",
      "Train Epoch: 0 [4000/60000 (7%)]\tLoss: 1.814891\n",
      "Train Epoch: 0 [6000/60000 (10%)]\tLoss: 1.316023\n",
      "Train Epoch: 0 [8000/60000 (13%)]\tLoss: 0.920075\n",
      "Train Epoch: 0 [10000/60000 (17%)]\tLoss: 0.673121\n",
      "Train Epoch: 0 [12000/60000 (20%)]\tLoss: 0.574375\n",
      "Train Epoch: 0 [14000/60000 (23%)]\tLoss: 0.319867\n",
      "Train Epoch: 0 [16000/60000 (27%)]\tLoss: 0.430699\n",
      "Train Epoch: 0 [18000/60000 (30%)]\tLoss: 0.424188\n",
      "Train Epoch: 0 [20000/60000 (33%)]\tLoss: 0.321510\n",
      "Train Epoch: 0 [22000/60000 (37%)]\tLoss: 0.298412\n",
      "Train Epoch: 0 [24000/60000 (40%)]\tLoss: 0.285107\n",
      "Train Epoch: 0 [26000/60000 (43%)]\tLoss: 0.352357\n",
      "Train Epoch: 0 [28000/60000 (47%)]\tLoss: 0.370479\n",
      "Train Epoch: 0 [30000/60000 (50%)]\tLoss: 0.296379\n",
      "Train Epoch: 0 [32000/60000 (53%)]\tLoss: 0.276954\n",
      "Train Epoch: 0 [34000/60000 (57%)]\tLoss: 0.357670\n",
      "Train Epoch: 0 [36000/60000 (60%)]\tLoss: 0.292101\n",
      "Train Epoch: 0 [38000/60000 (63%)]\tLoss: 0.238567\n",
      "Train Epoch: 0 [40000/60000 (67%)]\tLoss: 0.375215\n",
      "Train Epoch: 0 [42000/60000 (70%)]\tLoss: 0.185623\n",
      "Train Epoch: 0 [44000/60000 (73%)]\tLoss: 0.247561\n",
      "Train Epoch: 0 [46000/60000 (77%)]\tLoss: 0.276397\n",
      "Train Epoch: 0 [48000/60000 (80%)]\tLoss: 0.235103\n",
      "Train Epoch: 0 [50000/60000 (83%)]\tLoss: 0.211583\n",
      "Train Epoch: 0 [52000/60000 (87%)]\tLoss: 0.219853\n",
      "Train Epoch: 0 [54000/60000 (90%)]\tLoss: 0.297880\n",
      "Train Epoch: 0 [56000/60000 (93%)]\tLoss: 0.218265\n",
      "Train Epoch: 0 [58000/60000 (97%)]\tLoss: 0.200295\n",
      "Train Epoch: 1 [0/60000 (0%)]\tLoss: 0.158096\n",
      "Train Epoch: 1 [2000/60000 (3%)]\tLoss: 0.187665\n",
      "Train Epoch: 1 [4000/60000 (7%)]\tLoss: 0.180648\n",
      "Train Epoch: 1 [6000/60000 (10%)]\tLoss: 0.230722\n",
      "Train Epoch: 1 [8000/60000 (13%)]\tLoss: 0.183174\n",
      "Train Epoch: 1 [10000/60000 (17%)]\tLoss: 0.162234\n",
      "Train Epoch: 1 [12000/60000 (20%)]\tLoss: 0.276700\n",
      "Train Epoch: 1 [14000/60000 (23%)]\tLoss: 0.238648\n",
      "Train Epoch: 1 [16000/60000 (27%)]\tLoss: 0.154803\n",
      "Train Epoch: 1 [18000/60000 (30%)]\tLoss: 0.241141\n",
      "Train Epoch: 1 [20000/60000 (33%)]\tLoss: 0.174322\n",
      "Train Epoch: 1 [22000/60000 (37%)]\tLoss: 0.240449\n",
      "Train Epoch: 1 [24000/60000 (40%)]\tLoss: 0.193300\n",
      "Train Epoch: 1 [26000/60000 (43%)]\tLoss: 0.226499\n",
      "Train Epoch: 1 [28000/60000 (47%)]\tLoss: 0.253727\n",
      "Train Epoch: 1 [30000/60000 (50%)]\tLoss: 0.152099\n",
      "Train Epoch: 1 [32000/60000 (53%)]\tLoss: 0.160227\n",
      "Train Epoch: 1 [34000/60000 (57%)]\tLoss: 0.260533\n",
      "Train Epoch: 1 [36000/60000 (60%)]\tLoss: 0.168185\n",
      "Train Epoch: 1 [38000/60000 (63%)]\tLoss: 0.197074\n",
      "Train Epoch: 1 [40000/60000 (67%)]\tLoss: 0.199416\n",
      "Train Epoch: 1 [42000/60000 (70%)]\tLoss: 0.192997\n",
      "Train Epoch: 1 [44000/60000 (73%)]\tLoss: 0.248705\n",
      "Train Epoch: 1 [46000/60000 (77%)]\tLoss: 0.164493\n",
      "Train Epoch: 1 [48000/60000 (80%)]\tLoss: 0.152596\n",
      "Train Epoch: 1 [50000/60000 (83%)]\tLoss: 0.249834\n",
      "Train Epoch: 1 [52000/60000 (87%)]\tLoss: 0.229895\n",
      "Train Epoch: 1 [54000/60000 (90%)]\tLoss: 0.159840\n",
      "Train Epoch: 1 [56000/60000 (93%)]\tLoss: 0.231290\n",
      "Train Epoch: 1 [58000/60000 (97%)]\tLoss: 0.131824\n",
      "Train Epoch: 2 [0/60000 (0%)]\tLoss: 0.124226\n",
      "Train Epoch: 2 [2000/60000 (3%)]\tLoss: 0.085719\n",
      "Train Epoch: 2 [4000/60000 (7%)]\tLoss: 0.175420\n",
      "Train Epoch: 2 [6000/60000 (10%)]\tLoss: 0.154645\n",
      "Train Epoch: 2 [8000/60000 (13%)]\tLoss: 0.133467\n",
      "Train Epoch: 2 [10000/60000 (17%)]\tLoss: 0.191306\n",
      "Train Epoch: 2 [12000/60000 (20%)]\tLoss: 0.123399\n",
      "Train Epoch: 2 [14000/60000 (23%)]\tLoss: 0.121471\n",
      "Train Epoch: 2 [16000/60000 (27%)]\tLoss: 0.135277\n",
      "Train Epoch: 2 [18000/60000 (30%)]\tLoss: 0.154415\n",
      "Train Epoch: 2 [20000/60000 (33%)]\tLoss: 0.108298\n",
      "Train Epoch: 2 [22000/60000 (37%)]\tLoss: 0.156429\n",
      "Train Epoch: 2 [24000/60000 (40%)]\tLoss: 0.256661\n",
      "Train Epoch: 2 [26000/60000 (43%)]\tLoss: 0.146789\n",
      "Train Epoch: 2 [28000/60000 (47%)]\tLoss: 0.166246\n",
      "Train Epoch: 2 [30000/60000 (50%)]\tLoss: 0.131950\n",
      "Train Epoch: 2 [32000/60000 (53%)]\tLoss: 0.129080\n",
      "Train Epoch: 2 [34000/60000 (57%)]\tLoss: 0.150626\n",
      "Train Epoch: 2 [36000/60000 (60%)]\tLoss: 0.091064\n",
      "Train Epoch: 2 [38000/60000 (63%)]\tLoss: 0.244842\n",
      "Train Epoch: 2 [40000/60000 (67%)]\tLoss: 0.148079\n",
      "Train Epoch: 2 [42000/60000 (70%)]\tLoss: 0.092065\n",
      "Train Epoch: 2 [44000/60000 (73%)]\tLoss: 0.171708\n",
      "Train Epoch: 2 [46000/60000 (77%)]\tLoss: 0.123724\n",
      "Train Epoch: 2 [48000/60000 (80%)]\tLoss: 0.149218\n",
      "Train Epoch: 2 [50000/60000 (83%)]\tLoss: 0.093959\n",
      "Train Epoch: 2 [52000/60000 (87%)]\tLoss: 0.150344\n",
      "Train Epoch: 2 [54000/60000 (90%)]\tLoss: 0.128831\n",
      "Train Epoch: 2 [56000/60000 (93%)]\tLoss: 0.097567\n",
      "Train Epoch: 2 [58000/60000 (97%)]\tLoss: 0.084733\n",
      "Train Epoch: 3 [0/60000 (0%)]\tLoss: 0.163386\n",
      "Train Epoch: 3 [2000/60000 (3%)]\tLoss: 0.085770\n",
      "Train Epoch: 3 [4000/60000 (7%)]\tLoss: 0.136814\n",
      "Train Epoch: 3 [6000/60000 (10%)]\tLoss: 0.139415\n",
      "Train Epoch: 3 [8000/60000 (13%)]\tLoss: 0.116927\n",
      "Train Epoch: 3 [10000/60000 (17%)]\tLoss: 0.096802\n",
      "Train Epoch: 3 [12000/60000 (20%)]\tLoss: 0.168985\n",
      "Train Epoch: 3 [14000/60000 (23%)]\tLoss: 0.059577\n",
      "Train Epoch: 3 [16000/60000 (27%)]\tLoss: 0.078421\n",
      "Train Epoch: 3 [18000/60000 (30%)]\tLoss: 0.119221\n",
      "Train Epoch: 3 [20000/60000 (33%)]\tLoss: 0.108170\n",
      "Train Epoch: 3 [22000/60000 (37%)]\tLoss: 0.087245\n",
      "Train Epoch: 3 [24000/60000 (40%)]\tLoss: 0.051385\n",
      "Train Epoch: 3 [26000/60000 (43%)]\tLoss: 0.168478\n",
      "Train Epoch: 3 [28000/60000 (47%)]\tLoss: 0.078285\n",
      "Train Epoch: 3 [30000/60000 (50%)]\tLoss: 0.107518\n",
      "Train Epoch: 3 [32000/60000 (53%)]\tLoss: 0.054314\n",
      "Train Epoch: 3 [34000/60000 (57%)]\tLoss: 0.062819\n",
      "Train Epoch: 3 [36000/60000 (60%)]\tLoss: 0.105988\n",
      "Train Epoch: 3 [38000/60000 (63%)]\tLoss: 0.059595\n",
      "Train Epoch: 3 [40000/60000 (67%)]\tLoss: 0.145683\n",
      "Train Epoch: 3 [42000/60000 (70%)]\tLoss: 0.069484\n",
      "Train Epoch: 3 [44000/60000 (73%)]\tLoss: 0.191344\n",
      "Train Epoch: 3 [46000/60000 (77%)]\tLoss: 0.157472\n",
      "Train Epoch: 3 [48000/60000 (80%)]\tLoss: 0.055754\n",
      "Train Epoch: 3 [50000/60000 (83%)]\tLoss: 0.116380\n",
      "Train Epoch: 3 [52000/60000 (87%)]\tLoss: 0.119627\n",
      "Train Epoch: 3 [54000/60000 (90%)]\tLoss: 0.075723\n",
      "Train Epoch: 3 [56000/60000 (93%)]\tLoss: 0.107298\n",
      "Train Epoch: 3 [58000/60000 (97%)]\tLoss: 0.087531\n",
      "Train Epoch: 4 [0/60000 (0%)]\tLoss: 0.149976\n",
      "Train Epoch: 4 [2000/60000 (3%)]\tLoss: 0.054007\n",
      "Train Epoch: 4 [4000/60000 (7%)]\tLoss: 0.062067\n",
      "Train Epoch: 4 [6000/60000 (10%)]\tLoss: 0.115765\n",
      "Train Epoch: 4 [8000/60000 (13%)]\tLoss: 0.064420\n",
      "Train Epoch: 4 [10000/60000 (17%)]\tLoss: 0.131110\n",
      "Train Epoch: 4 [12000/60000 (20%)]\tLoss: 0.092694\n",
      "Train Epoch: 4 [14000/60000 (23%)]\tLoss: 0.084902\n",
      "Train Epoch: 4 [16000/60000 (27%)]\tLoss: 0.112637\n",
      "Train Epoch: 4 [18000/60000 (30%)]\tLoss: 0.037762\n",
      "Train Epoch: 4 [20000/60000 (33%)]\tLoss: 0.112630\n",
      "Train Epoch: 4 [22000/60000 (37%)]\tLoss: 0.077391\n",
      "Train Epoch: 4 [24000/60000 (40%)]\tLoss: 0.044916\n",
      "Train Epoch: 4 [26000/60000 (43%)]\tLoss: 0.072543\n",
      "Train Epoch: 4 [28000/60000 (47%)]\tLoss: 0.101734\n",
      "Train Epoch: 4 [30000/60000 (50%)]\tLoss: 0.119284\n",
      "Train Epoch: 4 [32000/60000 (53%)]\tLoss: 0.096766\n",
      "Train Epoch: 4 [34000/60000 (57%)]\tLoss: 0.069860\n",
      "Train Epoch: 4 [36000/60000 (60%)]\tLoss: 0.079393\n",
      "Train Epoch: 4 [38000/60000 (63%)]\tLoss: 0.071183\n",
      "Train Epoch: 4 [40000/60000 (67%)]\tLoss: 0.102726\n",
      "Train Epoch: 4 [42000/60000 (70%)]\tLoss: 0.066862\n",
      "Train Epoch: 4 [44000/60000 (73%)]\tLoss: 0.083048\n",
      "Train Epoch: 4 [46000/60000 (77%)]\tLoss: 0.030404\n",
      "Train Epoch: 4 [48000/60000 (80%)]\tLoss: 0.113575\n",
      "Train Epoch: 4 [50000/60000 (83%)]\tLoss: 0.063020\n",
      "Train Epoch: 4 [52000/60000 (87%)]\tLoss: 0.113597\n",
      "Train Epoch: 4 [54000/60000 (90%)]\tLoss: 0.096114\n",
      "Train Epoch: 4 [56000/60000 (93%)]\tLoss: 0.110275\n",
      "Train Epoch: 4 [58000/60000 (97%)]\tLoss: 0.113150\n",
      "Train Epoch: 5 [0/60000 (0%)]\tLoss: 0.049556\n",
      "Train Epoch: 5 [2000/60000 (3%)]\tLoss: 0.098549\n",
      "Train Epoch: 5 [4000/60000 (7%)]\tLoss: 0.083999\n",
      "Train Epoch: 5 [6000/60000 (10%)]\tLoss: 0.075792\n",
      "Train Epoch: 5 [8000/60000 (13%)]\tLoss: 0.048102\n",
      "Train Epoch: 5 [10000/60000 (17%)]\tLoss: 0.074261\n",
      "Train Epoch: 5 [12000/60000 (20%)]\tLoss: 0.075217\n",
      "Train Epoch: 5 [14000/60000 (23%)]\tLoss: 0.027413\n",
      "Train Epoch: 5 [16000/60000 (27%)]\tLoss: 0.051885\n",
      "Train Epoch: 5 [18000/60000 (30%)]\tLoss: 0.097263\n",
      "Train Epoch: 5 [20000/60000 (33%)]\tLoss: 0.056777\n",
      "Train Epoch: 5 [22000/60000 (37%)]\tLoss: 0.020740\n",
      "Train Epoch: 5 [24000/60000 (40%)]\tLoss: 0.075430\n",
      "Train Epoch: 5 [26000/60000 (43%)]\tLoss: 0.055956\n",
      "Train Epoch: 5 [28000/60000 (47%)]\tLoss: 0.091556\n"
     ]
    },
    {
     "name": "stdout",
     "output_type": "stream",
     "text": [
      "Train Epoch: 5 [30000/60000 (50%)]\tLoss: 0.097833\n",
      "Train Epoch: 5 [32000/60000 (53%)]\tLoss: 0.072328\n",
      "Train Epoch: 5 [34000/60000 (57%)]\tLoss: 0.103291\n",
      "Train Epoch: 5 [36000/60000 (60%)]\tLoss: 0.108415\n",
      "Train Epoch: 5 [38000/60000 (63%)]\tLoss: 0.105498\n",
      "Train Epoch: 5 [40000/60000 (67%)]\tLoss: 0.075708\n",
      "Train Epoch: 5 [42000/60000 (70%)]\tLoss: 0.055130\n",
      "Train Epoch: 5 [44000/60000 (73%)]\tLoss: 0.024565\n",
      "Train Epoch: 5 [46000/60000 (77%)]\tLoss: 0.057736\n",
      "Train Epoch: 5 [48000/60000 (80%)]\tLoss: 0.092228\n",
      "Train Epoch: 5 [50000/60000 (83%)]\tLoss: 0.037179\n",
      "Train Epoch: 5 [52000/60000 (87%)]\tLoss: 0.093136\n",
      "Train Epoch: 5 [54000/60000 (90%)]\tLoss: 0.059731\n",
      "Train Epoch: 5 [56000/60000 (93%)]\tLoss: 0.058384\n",
      "Train Epoch: 5 [58000/60000 (97%)]\tLoss: 0.073063\n",
      "Train Epoch: 6 [0/60000 (0%)]\tLoss: 0.097358\n",
      "Train Epoch: 6 [2000/60000 (3%)]\tLoss: 0.048211\n",
      "Train Epoch: 6 [4000/60000 (7%)]\tLoss: 0.032229\n",
      "Train Epoch: 6 [6000/60000 (10%)]\tLoss: 0.022491\n",
      "Train Epoch: 6 [8000/60000 (13%)]\tLoss: 0.061589\n",
      "Train Epoch: 6 [10000/60000 (17%)]\tLoss: 0.102928\n",
      "Train Epoch: 6 [12000/60000 (20%)]\tLoss: 0.065526\n",
      "Train Epoch: 6 [14000/60000 (23%)]\tLoss: 0.053022\n",
      "Train Epoch: 6 [16000/60000 (27%)]\tLoss: 0.050544\n",
      "Train Epoch: 6 [18000/60000 (30%)]\tLoss: 0.054276\n",
      "Train Epoch: 6 [20000/60000 (33%)]\tLoss: 0.061412\n",
      "Train Epoch: 6 [22000/60000 (37%)]\tLoss: 0.037284\n",
      "Train Epoch: 6 [24000/60000 (40%)]\tLoss: 0.082611\n",
      "Train Epoch: 6 [26000/60000 (43%)]\tLoss: 0.072056\n",
      "Train Epoch: 6 [28000/60000 (47%)]\tLoss: 0.093946\n",
      "Train Epoch: 6 [30000/60000 (50%)]\tLoss: 0.093197\n",
      "Train Epoch: 6 [32000/60000 (53%)]\tLoss: 0.040146\n",
      "Train Epoch: 6 [34000/60000 (57%)]\tLoss: 0.027541\n",
      "Train Epoch: 6 [36000/60000 (60%)]\tLoss: 0.075242\n",
      "Train Epoch: 6 [38000/60000 (63%)]\tLoss: 0.079307\n",
      "Train Epoch: 6 [40000/60000 (67%)]\tLoss: 0.073178\n",
      "Train Epoch: 6 [42000/60000 (70%)]\tLoss: 0.058620\n",
      "Train Epoch: 6 [44000/60000 (73%)]\tLoss: 0.039941\n",
      "Train Epoch: 6 [46000/60000 (77%)]\tLoss: 0.081493\n",
      "Train Epoch: 6 [48000/60000 (80%)]\tLoss: 0.042199\n",
      "Train Epoch: 6 [50000/60000 (83%)]\tLoss: 0.078694\n",
      "Train Epoch: 6 [52000/60000 (87%)]\tLoss: 0.041845\n",
      "Train Epoch: 6 [54000/60000 (90%)]\tLoss: 0.065401\n",
      "Train Epoch: 6 [56000/60000 (93%)]\tLoss: 0.087115\n",
      "Train Epoch: 6 [58000/60000 (97%)]\tLoss: 0.046498\n",
      "Train Epoch: 7 [0/60000 (0%)]\tLoss: 0.074614\n",
      "Train Epoch: 7 [2000/60000 (3%)]\tLoss: 0.080584\n",
      "Train Epoch: 7 [4000/60000 (7%)]\tLoss: 0.050402\n",
      "Train Epoch: 7 [6000/60000 (10%)]\tLoss: 0.045293\n",
      "Train Epoch: 7 [8000/60000 (13%)]\tLoss: 0.059379\n",
      "Train Epoch: 7 [10000/60000 (17%)]\tLoss: 0.033106\n",
      "Train Epoch: 7 [12000/60000 (20%)]\tLoss: 0.038755\n",
      "Train Epoch: 7 [14000/60000 (23%)]\tLoss: 0.040354\n",
      "Train Epoch: 7 [16000/60000 (27%)]\tLoss: 0.029055\n",
      "Train Epoch: 7 [18000/60000 (30%)]\tLoss: 0.026895\n",
      "Train Epoch: 7 [20000/60000 (33%)]\tLoss: 0.059449\n",
      "Train Epoch: 7 [22000/60000 (37%)]\tLoss: 0.047354\n",
      "Train Epoch: 7 [24000/60000 (40%)]\tLoss: 0.055150\n",
      "Train Epoch: 7 [26000/60000 (43%)]\tLoss: 0.064475\n",
      "Train Epoch: 7 [28000/60000 (47%)]\tLoss: 0.051923\n",
      "Train Epoch: 7 [30000/60000 (50%)]\tLoss: 0.080139\n",
      "Train Epoch: 7 [32000/60000 (53%)]\tLoss: 0.016842\n",
      "Train Epoch: 7 [34000/60000 (57%)]\tLoss: 0.089547\n",
      "Train Epoch: 7 [36000/60000 (60%)]\tLoss: 0.058436\n",
      "Train Epoch: 7 [38000/60000 (63%)]\tLoss: 0.067483\n",
      "Train Epoch: 7 [40000/60000 (67%)]\tLoss: 0.031277\n",
      "Train Epoch: 7 [42000/60000 (70%)]\tLoss: 0.025658\n",
      "Train Epoch: 7 [44000/60000 (73%)]\tLoss: 0.038550\n",
      "Train Epoch: 7 [46000/60000 (77%)]\tLoss: 0.030056\n",
      "Train Epoch: 7 [48000/60000 (80%)]\tLoss: 0.016101\n",
      "Train Epoch: 7 [50000/60000 (83%)]\tLoss: 0.031854\n",
      "Train Epoch: 7 [52000/60000 (87%)]\tLoss: 0.038403\n",
      "Train Epoch: 7 [54000/60000 (90%)]\tLoss: 0.067843\n",
      "Train Epoch: 7 [56000/60000 (93%)]\tLoss: 0.039087\n",
      "Train Epoch: 7 [58000/60000 (97%)]\tLoss: 0.088469\n",
      "Train Epoch: 8 [0/60000 (0%)]\tLoss: 0.027046\n",
      "Train Epoch: 8 [2000/60000 (3%)]\tLoss: 0.043954\n",
      "Train Epoch: 8 [4000/60000 (7%)]\tLoss: 0.072540\n",
      "Train Epoch: 8 [6000/60000 (10%)]\tLoss: 0.035038\n",
      "Train Epoch: 8 [8000/60000 (13%)]\tLoss: 0.024971\n",
      "Train Epoch: 8 [10000/60000 (17%)]\tLoss: 0.095590\n",
      "Train Epoch: 8 [12000/60000 (20%)]\tLoss: 0.059759\n",
      "Train Epoch: 8 [14000/60000 (23%)]\tLoss: 0.030799\n",
      "Train Epoch: 8 [16000/60000 (27%)]\tLoss: 0.052999\n",
      "Train Epoch: 8 [18000/60000 (30%)]\tLoss: 0.014927\n",
      "Train Epoch: 8 [20000/60000 (33%)]\tLoss: 0.041275\n",
      "Train Epoch: 8 [22000/60000 (37%)]\tLoss: 0.045006\n",
      "Train Epoch: 8 [24000/60000 (40%)]\tLoss: 0.037297\n",
      "Train Epoch: 8 [26000/60000 (43%)]\tLoss: 0.065137\n",
      "Train Epoch: 8 [28000/60000 (47%)]\tLoss: 0.023684\n",
      "Train Epoch: 8 [30000/60000 (50%)]\tLoss: 0.026533\n",
      "Train Epoch: 8 [32000/60000 (53%)]\tLoss: 0.047157\n",
      "Train Epoch: 8 [34000/60000 (57%)]\tLoss: 0.037395\n",
      "Train Epoch: 8 [36000/60000 (60%)]\tLoss: 0.022378\n",
      "Train Epoch: 8 [38000/60000 (63%)]\tLoss: 0.027437\n",
      "Train Epoch: 8 [40000/60000 (67%)]\tLoss: 0.025351\n",
      "Train Epoch: 8 [42000/60000 (70%)]\tLoss: 0.065388\n",
      "Train Epoch: 8 [44000/60000 (73%)]\tLoss: 0.058478\n",
      "Train Epoch: 8 [46000/60000 (77%)]\tLoss: 0.035171\n",
      "Train Epoch: 8 [48000/60000 (80%)]\tLoss: 0.062906\n",
      "Train Epoch: 8 [50000/60000 (83%)]\tLoss: 0.052161\n",
      "Train Epoch: 8 [52000/60000 (87%)]\tLoss: 0.048131\n",
      "Train Epoch: 8 [54000/60000 (90%)]\tLoss: 0.025174\n",
      "Train Epoch: 8 [56000/60000 (93%)]\tLoss: 0.034191\n",
      "Train Epoch: 8 [58000/60000 (97%)]\tLoss: 0.068753\n",
      "Train Epoch: 9 [0/60000 (0%)]\tLoss: 0.058638\n",
      "Train Epoch: 9 [2000/60000 (3%)]\tLoss: 0.033877\n",
      "Train Epoch: 9 [4000/60000 (7%)]\tLoss: 0.044168\n",
      "Train Epoch: 9 [6000/60000 (10%)]\tLoss: 0.061825\n",
      "Train Epoch: 9 [8000/60000 (13%)]\tLoss: 0.042323\n",
      "Train Epoch: 9 [10000/60000 (17%)]\tLoss: 0.060718\n",
      "Train Epoch: 9 [12000/60000 (20%)]\tLoss: 0.026491\n",
      "Train Epoch: 9 [14000/60000 (23%)]\tLoss: 0.033587\n",
      "Train Epoch: 9 [16000/60000 (27%)]\tLoss: 0.054721\n",
      "Train Epoch: 9 [18000/60000 (30%)]\tLoss: 0.044446\n",
      "Train Epoch: 9 [20000/60000 (33%)]\tLoss: 0.018524\n",
      "Train Epoch: 9 [22000/60000 (37%)]\tLoss: 0.038480\n",
      "Train Epoch: 9 [24000/60000 (40%)]\tLoss: 0.020372\n",
      "Train Epoch: 9 [26000/60000 (43%)]\tLoss: 0.082168\n",
      "Train Epoch: 9 [28000/60000 (47%)]\tLoss: 0.019393\n",
      "Train Epoch: 9 [30000/60000 (50%)]\tLoss: 0.029502\n",
      "Train Epoch: 9 [32000/60000 (53%)]\tLoss: 0.046293\n",
      "Train Epoch: 9 [34000/60000 (57%)]\tLoss: 0.028010\n",
      "Train Epoch: 9 [36000/60000 (60%)]\tLoss: 0.020388\n",
      "Train Epoch: 9 [38000/60000 (63%)]\tLoss: 0.027248\n",
      "Train Epoch: 9 [40000/60000 (67%)]\tLoss: 0.016630\n",
      "Train Epoch: 9 [42000/60000 (70%)]\tLoss: 0.068811\n",
      "Train Epoch: 9 [44000/60000 (73%)]\tLoss: 0.046482\n",
      "Train Epoch: 9 [46000/60000 (77%)]\tLoss: 0.067055\n",
      "Train Epoch: 9 [48000/60000 (80%)]\tLoss: 0.058320\n",
      "Train Epoch: 9 [50000/60000 (83%)]\tLoss: 0.022368\n",
      "Train Epoch: 9 [52000/60000 (87%)]\tLoss: 0.025609\n",
      "Train Epoch: 9 [54000/60000 (90%)]\tLoss: 0.045130\n",
      "Train Epoch: 9 [56000/60000 (93%)]\tLoss: 0.031622\n",
      "Train Epoch: 9 [58000/60000 (97%)]\tLoss: 0.053111\n"
     ]
    }
   ],
   "source": [
    "learning_rate = 0.01\n",
    "\n",
    "# Осуществляем оптимизацию путем стохастического градиентного спуска\n",
    "optimizer = optim.SGD(net.parameters(), lr=learning_rate, momentum=0.9)\n",
    "# Создаем функцию потерь\n",
    "criterion = nn.NLLLoss()\n",
    "\n",
    "train(optimizer)  "
   ]
  },
  {
   "cell_type": "code",
   "execution_count": 293,
   "metadata": {},
   "outputs": [
    {
     "name": "stdout",
     "output_type": "stream",
     "text": [
      "\n",
      "Test set: Average loss: 0.0003, Accuracy: 9777/10000 (97%)\n",
      "\n"
     ]
    }
   ],
   "source": [
    "if __name__ == '__main__':\n",
    "    main()"
   ]
  },
  {
   "cell_type": "markdown",
   "metadata": {},
   "source": [
    "### Adam optimizer"
   ]
  },
  {
   "cell_type": "code",
   "execution_count": 294,
   "metadata": {},
   "outputs": [
    {
     "name": "stdout",
     "output_type": "stream",
     "text": [
      "Train Epoch: 0 [0/60000 (0%)]\tLoss: 0.048584\n",
      "Train Epoch: 0 [2000/60000 (3%)]\tLoss: 0.993558\n",
      "Train Epoch: 0 [4000/60000 (7%)]\tLoss: 0.520789\n",
      "Train Epoch: 0 [6000/60000 (10%)]\tLoss: 0.450685\n",
      "Train Epoch: 0 [8000/60000 (13%)]\tLoss: 0.340326\n",
      "Train Epoch: 0 [10000/60000 (17%)]\tLoss: 0.260818\n",
      "Train Epoch: 0 [12000/60000 (20%)]\tLoss: 0.275898\n",
      "Train Epoch: 0 [14000/60000 (23%)]\tLoss: 0.215999\n",
      "Train Epoch: 0 [16000/60000 (27%)]\tLoss: 0.191310\n",
      "Train Epoch: 0 [18000/60000 (30%)]\tLoss: 0.186420\n",
      "Train Epoch: 0 [20000/60000 (33%)]\tLoss: 0.245189\n",
      "Train Epoch: 0 [22000/60000 (37%)]\tLoss: 0.282442\n",
      "Train Epoch: 0 [24000/60000 (40%)]\tLoss: 0.251075\n",
      "Train Epoch: 0 [26000/60000 (43%)]\tLoss: 0.185695\n",
      "Train Epoch: 0 [28000/60000 (47%)]\tLoss: 0.168624\n",
      "Train Epoch: 0 [30000/60000 (50%)]\tLoss: 0.190308\n",
      "Train Epoch: 0 [32000/60000 (53%)]\tLoss: 0.201288\n",
      "Train Epoch: 0 [34000/60000 (57%)]\tLoss: 0.296966\n",
      "Train Epoch: 0 [36000/60000 (60%)]\tLoss: 0.287170\n",
      "Train Epoch: 0 [38000/60000 (63%)]\tLoss: 0.143276\n",
      "Train Epoch: 0 [40000/60000 (67%)]\tLoss: 0.200463\n",
      "Train Epoch: 0 [42000/60000 (70%)]\tLoss: 0.112191\n",
      "Train Epoch: 0 [44000/60000 (73%)]\tLoss: 0.097325\n",
      "Train Epoch: 0 [46000/60000 (77%)]\tLoss: 0.233923\n",
      "Train Epoch: 0 [48000/60000 (80%)]\tLoss: 0.175748\n",
      "Train Epoch: 0 [50000/60000 (83%)]\tLoss: 0.215098\n",
      "Train Epoch: 0 [52000/60000 (87%)]\tLoss: 0.198037\n",
      "Train Epoch: 0 [54000/60000 (90%)]\tLoss: 0.134444\n",
      "Train Epoch: 0 [56000/60000 (93%)]\tLoss: 0.208467\n",
      "Train Epoch: 0 [58000/60000 (97%)]\tLoss: 0.279292\n",
      "Train Epoch: 1 [0/60000 (0%)]\tLoss: 0.188432\n",
      "Train Epoch: 1 [2000/60000 (3%)]\tLoss: 0.058173\n",
      "Train Epoch: 1 [4000/60000 (7%)]\tLoss: 0.135483\n",
      "Train Epoch: 1 [6000/60000 (10%)]\tLoss: 0.187114\n",
      "Train Epoch: 1 [8000/60000 (13%)]\tLoss: 0.080995\n",
      "Train Epoch: 1 [10000/60000 (17%)]\tLoss: 0.169037\n",
      "Train Epoch: 1 [12000/60000 (20%)]\tLoss: 0.094396\n",
      "Train Epoch: 1 [14000/60000 (23%)]\tLoss: 0.186168\n",
      "Train Epoch: 1 [16000/60000 (27%)]\tLoss: 0.162991\n",
      "Train Epoch: 1 [18000/60000 (30%)]\tLoss: 0.103193\n",
      "Train Epoch: 1 [20000/60000 (33%)]\tLoss: 0.214871\n",
      "Train Epoch: 1 [22000/60000 (37%)]\tLoss: 0.119823\n",
      "Train Epoch: 1 [24000/60000 (40%)]\tLoss: 0.094634\n",
      "Train Epoch: 1 [26000/60000 (43%)]\tLoss: 0.289035\n",
      "Train Epoch: 1 [28000/60000 (47%)]\tLoss: 0.083690\n",
      "Train Epoch: 1 [30000/60000 (50%)]\tLoss: 0.176900\n",
      "Train Epoch: 1 [32000/60000 (53%)]\tLoss: 0.058472\n",
      "Train Epoch: 1 [34000/60000 (57%)]\tLoss: 0.125405\n",
      "Train Epoch: 1 [36000/60000 (60%)]\tLoss: 0.207704\n",
      "Train Epoch: 1 [38000/60000 (63%)]\tLoss: 0.111854\n",
      "Train Epoch: 1 [40000/60000 (67%)]\tLoss: 0.154968\n",
      "Train Epoch: 1 [42000/60000 (70%)]\tLoss: 0.111693\n",
      "Train Epoch: 1 [44000/60000 (73%)]\tLoss: 0.198986\n",
      "Train Epoch: 1 [46000/60000 (77%)]\tLoss: 0.177985\n",
      "Train Epoch: 1 [48000/60000 (80%)]\tLoss: 0.121985\n",
      "Train Epoch: 1 [50000/60000 (83%)]\tLoss: 0.076104\n",
      "Train Epoch: 1 [52000/60000 (87%)]\tLoss: 0.104612\n",
      "Train Epoch: 1 [54000/60000 (90%)]\tLoss: 0.204232\n",
      "Train Epoch: 1 [56000/60000 (93%)]\tLoss: 0.160637\n",
      "Train Epoch: 1 [58000/60000 (97%)]\tLoss: 0.061057\n",
      "Train Epoch: 2 [0/60000 (0%)]\tLoss: 0.090479\n",
      "Train Epoch: 2 [2000/60000 (3%)]\tLoss: 0.184914\n",
      "Train Epoch: 2 [4000/60000 (7%)]\tLoss: 0.145622\n",
      "Train Epoch: 2 [6000/60000 (10%)]\tLoss: 0.132919\n",
      "Train Epoch: 2 [8000/60000 (13%)]\tLoss: 0.133476\n",
      "Train Epoch: 2 [10000/60000 (17%)]\tLoss: 0.107338\n",
      "Train Epoch: 2 [12000/60000 (20%)]\tLoss: 0.141992\n",
      "Train Epoch: 2 [14000/60000 (23%)]\tLoss: 0.064524\n",
      "Train Epoch: 2 [16000/60000 (27%)]\tLoss: 0.079688\n",
      "Train Epoch: 2 [18000/60000 (30%)]\tLoss: 0.094269\n",
      "Train Epoch: 2 [20000/60000 (33%)]\tLoss: 0.098858\n",
      "Train Epoch: 2 [22000/60000 (37%)]\tLoss: 0.074819\n",
      "Train Epoch: 2 [24000/60000 (40%)]\tLoss: 0.107747\n",
      "Train Epoch: 2 [26000/60000 (43%)]\tLoss: 0.077622\n",
      "Train Epoch: 2 [28000/60000 (47%)]\tLoss: 0.165776\n",
      "Train Epoch: 2 [30000/60000 (50%)]\tLoss: 0.121252\n",
      "Train Epoch: 2 [32000/60000 (53%)]\tLoss: 0.095288\n",
      "Train Epoch: 2 [34000/60000 (57%)]\tLoss: 0.119719\n",
      "Train Epoch: 2 [36000/60000 (60%)]\tLoss: 0.131229\n",
      "Train Epoch: 2 [38000/60000 (63%)]\tLoss: 0.143411\n",
      "Train Epoch: 2 [40000/60000 (67%)]\tLoss: 0.078687\n",
      "Train Epoch: 2 [42000/60000 (70%)]\tLoss: 0.065200\n",
      "Train Epoch: 2 [44000/60000 (73%)]\tLoss: 0.080117\n",
      "Train Epoch: 2 [46000/60000 (77%)]\tLoss: 0.194368\n",
      "Train Epoch: 2 [48000/60000 (80%)]\tLoss: 0.119928\n",
      "Train Epoch: 2 [50000/60000 (83%)]\tLoss: 0.073031\n",
      "Train Epoch: 2 [52000/60000 (87%)]\tLoss: 0.153844\n",
      "Train Epoch: 2 [54000/60000 (90%)]\tLoss: 0.148285\n",
      "Train Epoch: 2 [56000/60000 (93%)]\tLoss: 0.145764\n",
      "Train Epoch: 2 [58000/60000 (97%)]\tLoss: 0.118180\n",
      "Train Epoch: 3 [0/60000 (0%)]\tLoss: 0.068745\n",
      "Train Epoch: 3 [2000/60000 (3%)]\tLoss: 0.082709\n",
      "Train Epoch: 3 [4000/60000 (7%)]\tLoss: 0.049750\n",
      "Train Epoch: 3 [6000/60000 (10%)]\tLoss: 0.046537\n",
      "Train Epoch: 3 [8000/60000 (13%)]\tLoss: 0.100984\n",
      "Train Epoch: 3 [10000/60000 (17%)]\tLoss: 0.125411\n",
      "Train Epoch: 3 [12000/60000 (20%)]\tLoss: 0.070080\n",
      "Train Epoch: 3 [14000/60000 (23%)]\tLoss: 0.098727\n",
      "Train Epoch: 3 [16000/60000 (27%)]\tLoss: 0.042819\n",
      "Train Epoch: 3 [18000/60000 (30%)]\tLoss: 0.227904\n",
      "Train Epoch: 3 [20000/60000 (33%)]\tLoss: 0.073626\n",
      "Train Epoch: 3 [22000/60000 (37%)]\tLoss: 0.125086\n",
      "Train Epoch: 3 [24000/60000 (40%)]\tLoss: 0.045564\n",
      "Train Epoch: 3 [26000/60000 (43%)]\tLoss: 0.104212\n",
      "Train Epoch: 3 [28000/60000 (47%)]\tLoss: 0.095776\n",
      "Train Epoch: 3 [30000/60000 (50%)]\tLoss: 0.116218\n",
      "Train Epoch: 3 [32000/60000 (53%)]\tLoss: 0.100475\n",
      "Train Epoch: 3 [34000/60000 (57%)]\tLoss: 0.163998\n",
      "Train Epoch: 3 [36000/60000 (60%)]\tLoss: 0.045441\n",
      "Train Epoch: 3 [38000/60000 (63%)]\tLoss: 0.140421\n",
      "Train Epoch: 3 [40000/60000 (67%)]\tLoss: 0.149506\n",
      "Train Epoch: 3 [42000/60000 (70%)]\tLoss: 0.095287\n",
      "Train Epoch: 3 [44000/60000 (73%)]\tLoss: 0.086981\n",
      "Train Epoch: 3 [46000/60000 (77%)]\tLoss: 0.051960\n",
      "Train Epoch: 3 [48000/60000 (80%)]\tLoss: 0.124425\n",
      "Train Epoch: 3 [50000/60000 (83%)]\tLoss: 0.075322\n",
      "Train Epoch: 3 [52000/60000 (87%)]\tLoss: 0.095802\n",
      "Train Epoch: 3 [54000/60000 (90%)]\tLoss: 0.114495\n",
      "Train Epoch: 3 [56000/60000 (93%)]\tLoss: 0.124200\n",
      "Train Epoch: 3 [58000/60000 (97%)]\tLoss: 0.118109\n",
      "Train Epoch: 4 [0/60000 (0%)]\tLoss: 0.067767\n",
      "Train Epoch: 4 [2000/60000 (3%)]\tLoss: 0.110958\n",
      "Train Epoch: 4 [4000/60000 (7%)]\tLoss: 0.057531\n",
      "Train Epoch: 4 [6000/60000 (10%)]\tLoss: 0.058564\n",
      "Train Epoch: 4 [8000/60000 (13%)]\tLoss: 0.025605\n",
      "Train Epoch: 4 [10000/60000 (17%)]\tLoss: 0.065895\n",
      "Train Epoch: 4 [12000/60000 (20%)]\tLoss: 0.075911\n",
      "Train Epoch: 4 [14000/60000 (23%)]\tLoss: 0.059028\n",
      "Train Epoch: 4 [16000/60000 (27%)]\tLoss: 0.044049\n",
      "Train Epoch: 4 [18000/60000 (30%)]\tLoss: 0.087451\n",
      "Train Epoch: 4 [20000/60000 (33%)]\tLoss: 0.132643\n",
      "Train Epoch: 4 [22000/60000 (37%)]\tLoss: 0.089875\n",
      "Train Epoch: 4 [24000/60000 (40%)]\tLoss: 0.082673\n",
      "Train Epoch: 4 [26000/60000 (43%)]\tLoss: 0.073563\n",
      "Train Epoch: 4 [28000/60000 (47%)]\tLoss: 0.043133\n",
      "Train Epoch: 4 [30000/60000 (50%)]\tLoss: 0.137087\n",
      "Train Epoch: 4 [32000/60000 (53%)]\tLoss: 0.115560\n",
      "Train Epoch: 4 [34000/60000 (57%)]\tLoss: 0.027171\n",
      "Train Epoch: 4 [36000/60000 (60%)]\tLoss: 0.077711\n",
      "Train Epoch: 4 [38000/60000 (63%)]\tLoss: 0.096136\n",
      "Train Epoch: 4 [40000/60000 (67%)]\tLoss: 0.144594\n",
      "Train Epoch: 4 [42000/60000 (70%)]\tLoss: 0.156398\n",
      "Train Epoch: 4 [44000/60000 (73%)]\tLoss: 0.061899\n",
      "Train Epoch: 4 [46000/60000 (77%)]\tLoss: 0.136599\n",
      "Train Epoch: 4 [48000/60000 (80%)]\tLoss: 0.091880\n",
      "Train Epoch: 4 [50000/60000 (83%)]\tLoss: 0.040532\n",
      "Train Epoch: 4 [52000/60000 (87%)]\tLoss: 0.177919\n",
      "Train Epoch: 4 [54000/60000 (90%)]\tLoss: 0.052265\n",
      "Train Epoch: 4 [56000/60000 (93%)]\tLoss: 0.083672\n",
      "Train Epoch: 4 [58000/60000 (97%)]\tLoss: 0.067496\n",
      "Train Epoch: 5 [0/60000 (0%)]\tLoss: 0.071951\n",
      "Train Epoch: 5 [2000/60000 (3%)]\tLoss: 0.031178\n",
      "Train Epoch: 5 [4000/60000 (7%)]\tLoss: 0.080733\n",
      "Train Epoch: 5 [6000/60000 (10%)]\tLoss: 0.037193\n",
      "Train Epoch: 5 [8000/60000 (13%)]\tLoss: 0.045029\n",
      "Train Epoch: 5 [10000/60000 (17%)]\tLoss: 0.157902\n",
      "Train Epoch: 5 [12000/60000 (20%)]\tLoss: 0.048543\n",
      "Train Epoch: 5 [14000/60000 (23%)]\tLoss: 0.077757\n",
      "Train Epoch: 5 [16000/60000 (27%)]\tLoss: 0.105755\n",
      "Train Epoch: 5 [18000/60000 (30%)]\tLoss: 0.090351\n",
      "Train Epoch: 5 [20000/60000 (33%)]\tLoss: 0.045797\n",
      "Train Epoch: 5 [22000/60000 (37%)]\tLoss: 0.077159\n",
      "Train Epoch: 5 [24000/60000 (40%)]\tLoss: 0.128460\n",
      "Train Epoch: 5 [26000/60000 (43%)]\tLoss: 0.152841\n",
      "Train Epoch: 5 [28000/60000 (47%)]\tLoss: 0.148167\n"
     ]
    },
    {
     "name": "stdout",
     "output_type": "stream",
     "text": [
      "Train Epoch: 5 [30000/60000 (50%)]\tLoss: 0.102149\n",
      "Train Epoch: 5 [32000/60000 (53%)]\tLoss: 0.126936\n",
      "Train Epoch: 5 [34000/60000 (57%)]\tLoss: 0.199733\n",
      "Train Epoch: 5 [36000/60000 (60%)]\tLoss: 0.081604\n",
      "Train Epoch: 5 [38000/60000 (63%)]\tLoss: 0.102584\n",
      "Train Epoch: 5 [40000/60000 (67%)]\tLoss: 0.121032\n",
      "Train Epoch: 5 [42000/60000 (70%)]\tLoss: 0.113066\n",
      "Train Epoch: 5 [44000/60000 (73%)]\tLoss: 0.086816\n",
      "Train Epoch: 5 [46000/60000 (77%)]\tLoss: 0.038283\n",
      "Train Epoch: 5 [48000/60000 (80%)]\tLoss: 0.072193\n",
      "Train Epoch: 5 [50000/60000 (83%)]\tLoss: 0.044043\n",
      "Train Epoch: 5 [52000/60000 (87%)]\tLoss: 0.140496\n",
      "Train Epoch: 5 [54000/60000 (90%)]\tLoss: 0.154627\n",
      "Train Epoch: 5 [56000/60000 (93%)]\tLoss: 0.135093\n",
      "Train Epoch: 5 [58000/60000 (97%)]\tLoss: 0.061793\n",
      "Train Epoch: 6 [0/60000 (0%)]\tLoss: 0.102533\n",
      "Train Epoch: 6 [2000/60000 (3%)]\tLoss: 0.040303\n",
      "Train Epoch: 6 [4000/60000 (7%)]\tLoss: 0.055732\n",
      "Train Epoch: 6 [6000/60000 (10%)]\tLoss: 0.083401\n",
      "Train Epoch: 6 [8000/60000 (13%)]\tLoss: 0.041042\n",
      "Train Epoch: 6 [10000/60000 (17%)]\tLoss: 0.083676\n",
      "Train Epoch: 6 [12000/60000 (20%)]\tLoss: 0.103774\n",
      "Train Epoch: 6 [14000/60000 (23%)]\tLoss: 0.130510\n",
      "Train Epoch: 6 [16000/60000 (27%)]\tLoss: 0.147447\n",
      "Train Epoch: 6 [18000/60000 (30%)]\tLoss: 0.109427\n",
      "Train Epoch: 6 [20000/60000 (33%)]\tLoss: 0.026649\n",
      "Train Epoch: 6 [22000/60000 (37%)]\tLoss: 0.076060\n",
      "Train Epoch: 6 [24000/60000 (40%)]\tLoss: 0.138890\n",
      "Train Epoch: 6 [26000/60000 (43%)]\tLoss: 0.108525\n",
      "Train Epoch: 6 [28000/60000 (47%)]\tLoss: 0.136158\n",
      "Train Epoch: 6 [30000/60000 (50%)]\tLoss: 0.155341\n",
      "Train Epoch: 6 [32000/60000 (53%)]\tLoss: 0.129579\n",
      "Train Epoch: 6 [34000/60000 (57%)]\tLoss: 0.100827\n",
      "Train Epoch: 6 [36000/60000 (60%)]\tLoss: 0.034867\n",
      "Train Epoch: 6 [38000/60000 (63%)]\tLoss: 0.121841\n",
      "Train Epoch: 6 [40000/60000 (67%)]\tLoss: 0.054413\n",
      "Train Epoch: 6 [42000/60000 (70%)]\tLoss: 0.075032\n",
      "Train Epoch: 6 [44000/60000 (73%)]\tLoss: 0.099432\n",
      "Train Epoch: 6 [46000/60000 (77%)]\tLoss: 0.059529\n",
      "Train Epoch: 6 [48000/60000 (80%)]\tLoss: 0.038067\n",
      "Train Epoch: 6 [50000/60000 (83%)]\tLoss: 0.084448\n",
      "Train Epoch: 6 [52000/60000 (87%)]\tLoss: 0.127313\n",
      "Train Epoch: 6 [54000/60000 (90%)]\tLoss: 0.125889\n",
      "Train Epoch: 6 [56000/60000 (93%)]\tLoss: 0.054515\n",
      "Train Epoch: 6 [58000/60000 (97%)]\tLoss: 0.197263\n",
      "Train Epoch: 7 [0/60000 (0%)]\tLoss: 0.046279\n",
      "Train Epoch: 7 [2000/60000 (3%)]\tLoss: 0.091294\n",
      "Train Epoch: 7 [4000/60000 (7%)]\tLoss: 0.102917\n",
      "Train Epoch: 7 [6000/60000 (10%)]\tLoss: 0.077277\n",
      "Train Epoch: 7 [8000/60000 (13%)]\tLoss: 0.085634\n",
      "Train Epoch: 7 [10000/60000 (17%)]\tLoss: 0.016936\n",
      "Train Epoch: 7 [12000/60000 (20%)]\tLoss: 0.063999\n",
      "Train Epoch: 7 [14000/60000 (23%)]\tLoss: 0.067079\n",
      "Train Epoch: 7 [16000/60000 (27%)]\tLoss: 0.083281\n",
      "Train Epoch: 7 [18000/60000 (30%)]\tLoss: 0.068396\n",
      "Train Epoch: 7 [20000/60000 (33%)]\tLoss: 0.108972\n",
      "Train Epoch: 7 [22000/60000 (37%)]\tLoss: 0.085079\n",
      "Train Epoch: 7 [24000/60000 (40%)]\tLoss: 0.030624\n",
      "Train Epoch: 7 [26000/60000 (43%)]\tLoss: 0.278176\n",
      "Train Epoch: 7 [28000/60000 (47%)]\tLoss: 0.010292\n",
      "Train Epoch: 7 [30000/60000 (50%)]\tLoss: 0.084145\n",
      "Train Epoch: 7 [32000/60000 (53%)]\tLoss: 0.045016\n",
      "Train Epoch: 7 [34000/60000 (57%)]\tLoss: 0.068893\n",
      "Train Epoch: 7 [36000/60000 (60%)]\tLoss: 0.055414\n",
      "Train Epoch: 7 [38000/60000 (63%)]\tLoss: 0.100830\n",
      "Train Epoch: 7 [40000/60000 (67%)]\tLoss: 0.070092\n",
      "Train Epoch: 7 [42000/60000 (70%)]\tLoss: 0.196856\n",
      "Train Epoch: 7 [44000/60000 (73%)]\tLoss: 0.054595\n",
      "Train Epoch: 7 [46000/60000 (77%)]\tLoss: 0.033544\n",
      "Train Epoch: 7 [48000/60000 (80%)]\tLoss: 0.153442\n",
      "Train Epoch: 7 [50000/60000 (83%)]\tLoss: 0.124418\n",
      "Train Epoch: 7 [52000/60000 (87%)]\tLoss: 0.126952\n",
      "Train Epoch: 7 [54000/60000 (90%)]\tLoss: 0.128624\n",
      "Train Epoch: 7 [56000/60000 (93%)]\tLoss: 0.220766\n",
      "Train Epoch: 7 [58000/60000 (97%)]\tLoss: 0.180443\n",
      "Train Epoch: 8 [0/60000 (0%)]\tLoss: 0.050922\n",
      "Train Epoch: 8 [2000/60000 (3%)]\tLoss: 0.068508\n",
      "Train Epoch: 8 [4000/60000 (7%)]\tLoss: 0.094342\n",
      "Train Epoch: 8 [6000/60000 (10%)]\tLoss: 0.055518\n",
      "Train Epoch: 8 [8000/60000 (13%)]\tLoss: 0.062165\n",
      "Train Epoch: 8 [10000/60000 (17%)]\tLoss: 0.103083\n",
      "Train Epoch: 8 [12000/60000 (20%)]\tLoss: 0.121271\n",
      "Train Epoch: 8 [14000/60000 (23%)]\tLoss: 0.053484\n",
      "Train Epoch: 8 [16000/60000 (27%)]\tLoss: 0.064612\n",
      "Train Epoch: 8 [18000/60000 (30%)]\tLoss: 0.038199\n",
      "Train Epoch: 8 [20000/60000 (33%)]\tLoss: 0.060171\n",
      "Train Epoch: 8 [22000/60000 (37%)]\tLoss: 0.100642\n",
      "Train Epoch: 8 [24000/60000 (40%)]\tLoss: 0.031210\n",
      "Train Epoch: 8 [26000/60000 (43%)]\tLoss: 0.086425\n",
      "Train Epoch: 8 [28000/60000 (47%)]\tLoss: 0.086504\n",
      "Train Epoch: 8 [30000/60000 (50%)]\tLoss: 0.096847\n",
      "Train Epoch: 8 [32000/60000 (53%)]\tLoss: 0.086165\n",
      "Train Epoch: 8 [34000/60000 (57%)]\tLoss: 0.047363\n",
      "Train Epoch: 8 [36000/60000 (60%)]\tLoss: 0.093380\n",
      "Train Epoch: 8 [38000/60000 (63%)]\tLoss: 0.074852\n",
      "Train Epoch: 8 [40000/60000 (67%)]\tLoss: 0.037038\n",
      "Train Epoch: 8 [42000/60000 (70%)]\tLoss: 0.044469\n",
      "Train Epoch: 8 [44000/60000 (73%)]\tLoss: 0.056502\n",
      "Train Epoch: 8 [46000/60000 (77%)]\tLoss: 0.105856\n",
      "Train Epoch: 8 [48000/60000 (80%)]\tLoss: 0.040408\n",
      "Train Epoch: 8 [50000/60000 (83%)]\tLoss: 0.040291\n",
      "Train Epoch: 8 [52000/60000 (87%)]\tLoss: 0.056475\n",
      "Train Epoch: 8 [54000/60000 (90%)]\tLoss: 0.076590\n",
      "Train Epoch: 8 [56000/60000 (93%)]\tLoss: 0.038616\n",
      "Train Epoch: 8 [58000/60000 (97%)]\tLoss: 0.047533\n",
      "Train Epoch: 9 [0/60000 (0%)]\tLoss: 0.027309\n",
      "Train Epoch: 9 [2000/60000 (3%)]\tLoss: 0.040543\n",
      "Train Epoch: 9 [4000/60000 (7%)]\tLoss: 0.012613\n",
      "Train Epoch: 9 [6000/60000 (10%)]\tLoss: 0.045618\n",
      "Train Epoch: 9 [8000/60000 (13%)]\tLoss: 0.111287\n",
      "Train Epoch: 9 [10000/60000 (17%)]\tLoss: 0.079619\n",
      "Train Epoch: 9 [12000/60000 (20%)]\tLoss: 0.088474\n",
      "Train Epoch: 9 [14000/60000 (23%)]\tLoss: 0.112813\n",
      "Train Epoch: 9 [16000/60000 (27%)]\tLoss: 0.096478\n",
      "Train Epoch: 9 [18000/60000 (30%)]\tLoss: 0.028852\n",
      "Train Epoch: 9 [20000/60000 (33%)]\tLoss: 0.064562\n",
      "Train Epoch: 9 [22000/60000 (37%)]\tLoss: 0.101534\n",
      "Train Epoch: 9 [24000/60000 (40%)]\tLoss: 0.072951\n",
      "Train Epoch: 9 [26000/60000 (43%)]\tLoss: 0.067835\n",
      "Train Epoch: 9 [28000/60000 (47%)]\tLoss: 0.052638\n",
      "Train Epoch: 9 [30000/60000 (50%)]\tLoss: 0.061418\n",
      "Train Epoch: 9 [32000/60000 (53%)]\tLoss: 0.110142\n",
      "Train Epoch: 9 [34000/60000 (57%)]\tLoss: 0.017509\n",
      "Train Epoch: 9 [36000/60000 (60%)]\tLoss: 0.102750\n",
      "Train Epoch: 9 [38000/60000 (63%)]\tLoss: 0.084335\n",
      "Train Epoch: 9 [40000/60000 (67%)]\tLoss: 0.081754\n",
      "Train Epoch: 9 [42000/60000 (70%)]\tLoss: 0.032793\n",
      "Train Epoch: 9 [44000/60000 (73%)]\tLoss: 0.140979\n",
      "Train Epoch: 9 [46000/60000 (77%)]\tLoss: 0.037952\n",
      "Train Epoch: 9 [48000/60000 (80%)]\tLoss: 0.066110\n",
      "Train Epoch: 9 [50000/60000 (83%)]\tLoss: 0.085681\n",
      "Train Epoch: 9 [52000/60000 (87%)]\tLoss: 0.026990\n",
      "Train Epoch: 9 [54000/60000 (90%)]\tLoss: 0.053689\n",
      "Train Epoch: 9 [56000/60000 (93%)]\tLoss: 0.082933\n",
      "Train Epoch: 9 [58000/60000 (97%)]\tLoss: 0.084799\n"
     ]
    }
   ],
   "source": [
    "learning_rate = 0.01\n",
    "\n",
    "optimizer = optim.Adam(net.parameters(), lr=learning_rate)\n",
    "criterion = nn.NLLLoss()\n",
    "\n",
    "train(optimizer)"
   ]
  },
  {
   "cell_type": "code",
   "execution_count": 295,
   "metadata": {},
   "outputs": [
    {
     "name": "stdout",
     "output_type": "stream",
     "text": [
      "\n",
      "Test set: Average loss: 0.0008, Accuracy: 9636/10000 (96%)\n",
      "\n"
     ]
    }
   ],
   "source": [
    "if __name__ == '__main__':\n",
    "    main()"
   ]
  }
 ],
 "metadata": {
  "kernelspec": {
   "display_name": "Python 3",
   "language": "python",
   "name": "python3"
  },
  "language_info": {
   "codemirror_mode": {
    "name": "ipython",
    "version": 3
   },
   "file_extension": ".py",
   "mimetype": "text/x-python",
   "name": "python",
   "nbconvert_exporter": "python",
   "pygments_lexer": "ipython3",
   "version": "3.6.4"
  }
 },
 "nbformat": 4,
 "nbformat_minor": 2
}
